{
 "cells": [
  {
   "cell_type": "code",
   "execution_count": null,
   "id": "a7685cab-f799-4c46-9d2b-998958728a73",
   "metadata": {},
   "outputs": [],
   "source": [
    "-- Make sure to run this cell first!\n",
    "\n",
    ":opt no-lint\n",
    "import Data.Char (isLetter, toUpper)"
   ]
  },
  {
   "cell_type": "markdown",
   "id": "5b75de7d-60d0-4ab4-94bf-088e935dba41",
   "metadata": {},
   "source": [
    "# Functional Programming and Why It's Relevant for HEP: Exercises, Part 1\n",
    "\n",
    "Welcome to the first part of the exercises following the Inverted CERN School of Computing 2024 lecture titled [\"Functional Programming and Why It's Relevant for HEP\"](https://indico.cern.ch/event/1334738/contributions/5814261/)! This part is intended to get you more familiar with the functional programming concepts presented during the lecture. In the second part of the exercise is meant to challenge you to apply your freshly acquired knowledge on functional thinking to a language that is not inherently functional, and hopefully demonstrate how this way of thinking will benefit your programming.\n",
    "\n",
    "This part contains two bonus exercises. While I definitely encourage you to take a stab at them, it might be advisable to save them for last to make sure you will have enough time for the second part of the lab!\n",
    "\n",
    "Finally, we encourage you to discuss your questions and ideas with your fellow participants, and if you get stuck at any point, please don't hesitate to ask for help. Good luck and enjoy!"
   ]
  },
  {
   "cell_type": "markdown",
   "id": "df4545da-1672-499d-afef-57970d8e69e5",
   "metadata": {},
   "source": [
    "## Recursion\n",
    "\n",
    "Recall the $\\mathbf{factorial}$ function from the lecture:\n",
    "\n",
    "$$\n",
    "\\mathbf{factorial} \\ n =\n",
    "\\begin{cases}\n",
    "  1 & \\text{if} \\ n = 0 \\\\\n",
    "  n \\cdot \\mathbf{factorial} \\ (n - 1) & \\text{otherwise}\n",
    "\\end{cases}\n",
    "$$\n",
    "\n",
    "To get you started, your first task is to implement this function in Haskell. The type declaration has already been given!\n",
    "\n",
    "**Tip** To implement the two cases in Haskell, you can use [pattern matching](https://book.realworldhaskell.org/read/defining-types-streamlining-functions.html#deftypes.pattern). Execute the cell below with `ctrl` (or `cmd`)+`enter` to see how it works!"
   ]
  },
  {
   "cell_type": "code",
   "execution_count": null,
   "id": "54bba737-7c9e-4c71-8e2c-9ef7f473508e",
   "metadata": {},
   "outputs": [],
   "source": [
    "my_pattern :: Int -> String\n",
    "my_pattern 42 = \"I am the Answer to the Ultimate Question of Life, The Universe, and Everything\"\n",
    "my_pattern x  = \"I am just \" ++ show x\n",
    "\n",
    "my_pattern 41\n",
    "my_pattern 42\n",
    "my_pattern 43"
   ]
  },
  {
   "cell_type": "markdown",
   "id": "5be8e966-151a-43da-b83a-6c20219f916d",
   "metadata": {},
   "source": [
    "Implement your `factorial` function here:"
   ]
  },
  {
   "cell_type": "code",
   "execution_count": null,
   "id": "7371204b-1759-4cdb-810c-8fa462f3c47a",
   "metadata": {},
   "outputs": [],
   "source": [
    "factorial :: Int -> Int\n",
    "factorial 0 = 1\n",
    "factorial n = n * factorial (n - 1)"
   ]
  },
  {
   "cell_type": "markdown",
   "id": "3608a8ba-21e4-4338-ad07-2c572e0aee06",
   "metadata": {},
   "source": [
    "Use the checks below to verify your code works as expected:"
   ]
  },
  {
   "cell_type": "code",
   "execution_count": null,
   "id": "96fba316-9095-403e-b495-42b78aac644e",
   "metadata": {},
   "outputs": [],
   "source": [
    "factorial 0 == 1\n",
    "factorial 1 == 1\n",
    "factorial 2 == 2\n",
    "factorial 3 == 6"
   ]
  },
  {
   "cell_type": "markdown",
   "id": "0097003f-5d02-4d50-af3a-f790b3410c21",
   "metadata": {},
   "source": [
    "### Bonus: Recursive Fibonacci\n",
    "\n",
    "Implement a function that recursively (and lazily!) computes the Fibonacci sequence. We will need two functions this time. The first, called `fibonacci` will serve as the 'entry point' and takes zero arguments. This function does nothing else than calling the second function, `fibonacci'`, which will perform the actual, recursive computation of the sequence. Again, the type declarations have already been given.\n",
    "\n",
    "**Tip** It might be helpful to write out the first three or so recursions on paper to get a feel for how the function should work!\n",
    "\n",
    "<details>\n",
    "    <summary><b>Hint</b> (click to reveal)</summary>\n",
    "    It's key to make clever use of list heads and tails here. Recall the <code>:</code> operator. You can use it not only to get access to list elements, but also to create lists!\n",
    "</details>"
   ]
  },
  {
   "cell_type": "code",
   "execution_count": null,
   "id": "915c1d7c-0580-428d-bdb6-91b901cd6f4d",
   "metadata": {},
   "outputs": [],
   "source": [
    "fibonacci :: [Int]\n",
    "fibonacci = fibonacci' 0 1\n",
    "\n",
    "fibonacci' :: Int -> Int -> [Int]\n",
    "fibonacci' a b = a : fibonacci' b (a + b)"
   ]
  },
  {
   "cell_type": "markdown",
   "id": "4b335530-41c4-4914-a45d-41e8c3cecffc",
   "metadata": {},
   "source": [
    "Recall the `take` function mentioned in the lecture. This will help us test our function!"
   ]
  },
  {
   "cell_type": "code",
   "execution_count": null,
   "id": "0e95bd7f-e601-4e88-908e-4d0d6e0cd725",
   "metadata": {},
   "outputs": [],
   "source": [
    "take 10 fibonacci == [0,1,1,2,3,5,8,13,21,34]"
   ]
  },
  {
   "cell_type": "markdown",
   "id": "bd22ad1f-1b35-47c1-813d-f520d88552e2",
   "metadata": {},
   "source": [
    "## Partial application and higher-order functions\n",
    "\n",
    "It's time to add a next ingredient: higher-order functions!\n",
    "\n",
    "To get more familiar with higher-order functions, play around with the functions defined in the cell below. Execute them with different arguments, and feel free to modify them or add more functions!"
   ]
  },
  {
   "cell_type": "code",
   "execution_count": null,
   "id": "fd6cefe3-bbba-4bf8-8be4-58c0cb99224d",
   "metadata": {},
   "outputs": [],
   "source": [
    "add :: Int -> Int -> Int\n",
    "add x y = x + y\n",
    "\n",
    "apply_operator :: Num a => (a -> a -> a) -> a -> a -> a\n",
    "apply_operator op x y = op x y\n",
    "\n",
    "apply_operator add 9 1\n",
    "apply_operator (\\ x y -> x - y) 9 1"
   ]
  },
  {
   "cell_type": "markdown",
   "id": "4148ffa6-1ec2-41bf-af44-862922ef98c6",
   "metadata": {},
   "source": [
    "Now, onto the real exercise! Recall the `take` function shown in the lecture as well as the bonus exercise in this exercise, which will take the first $n$ elements from a list. Your task is to write a function `take_while` that instead takes elements until a certain boolean condition is violated.\n",
    "\n",
    "**Tip** Besides pattern matching, you will need another method for evaluating the provided arguments called [guards](https://book.realworldhaskell.org/read/defining-types-streamlining-functions.html#deftypes.guard). Execute the cell below to see how it works! "
   ]
  },
  {
   "cell_type": "code",
   "execution_count": null,
   "id": "d82ab74f-e44a-4d6e-ae2a-1463739ab471",
   "metadata": {},
   "outputs": [],
   "source": [
    "my_guard :: Int -> String\n",
    "my_guard x | x < 0     = \"I am negative!\"\n",
    "           | x > 0     = \"I am positive!\"\n",
    "           | otherwise = \"I am zero!\"\n",
    "\n",
    "my_guard (-42)\n",
    "my_guard 42\n",
    "my_guard 0"
   ]
  },
  {
   "cell_type": "markdown",
   "id": "0e2a5351-1844-4486-88ca-815175685879",
   "metadata": {},
   "source": [
    "Implement your `take_while` function here:"
   ]
  },
  {
   "cell_type": "code",
   "execution_count": null,
   "id": "cc3ccab2-4bf6-4215-b6ed-eaa8d727d871",
   "metadata": {},
   "outputs": [],
   "source": [
    "take_while :: (a -> Bool) -> [a] -> [a]\n",
    "take_while _ [] = []\n",
    "take_while f (x:xs) | f x       = x : take_while f xs\n",
    "                    | otherwise = []"
   ]
  },
  {
   "cell_type": "markdown",
   "id": "8b8f296d-0832-47de-aec6-4442df53423f",
   "metadata": {},
   "source": [
    "Verify your function works as expected with the checks below. Feel free to add your own as well!"
   ]
  },
  {
   "cell_type": "code",
   "execution_count": null,
   "id": "846967b5-3553-41a4-914b-6c6af6763790",
   "metadata": {},
   "outputs": [],
   "source": [
    "take_while (\\x -> x < 5) [1..] == [1,2,3,4]\n",
    "take_while (\\x -> x > 5) [1..] == []\n",
    "take_while isLetter \"Hello world!\" == \"Hello\"\n",
    "take_while (\\_ -> True) [] == []"
   ]
  },
  {
   "cell_type": "markdown",
   "id": "c2cd0177-a992-487c-b964-e72a0ecb57ed",
   "metadata": {},
   "source": [
    "## Folding functions\n",
    "\n",
    "One of the most powerful and versatile functions is the `reduce` function, which in Haskell is called `foldr` (it's is called this way because we are \"folding\" the values of list into each other, starting from the right):\n",
    "\n",
    "```\n",
    "foldr :: (a -> b -> b) -> b -> [a] -> b \n",
    "```\n",
    "\n",
    "Try out the examples in the cell below to get an intuition for how it works:"
   ]
  },
  {
   "cell_type": "code",
   "execution_count": null,
   "id": "0483dcd7-298c-415e-931a-d20873a6e88e",
   "metadata": {},
   "outputs": [],
   "source": [
    "foldr (+) 0 [1..5]\n",
    "foldr (*) 1 [1..5]"
   ]
  },
  {
   "cell_type": "markdown",
   "id": "35d3d3d2-b50d-4ad0-98bf-bf679c15d9db",
   "metadata": {
    "jp-MarkdownHeadingCollapsed": true
   },
   "source": [
    "`foldr` becomes especially powerful when we combine it with partial application. Recall the example presented in the lecture:"
   ]
  },
  {
   "cell_type": "code",
   "execution_count": null,
   "id": "78f448b9-e305-4181-bf68-29771eb77074",
   "metadata": {},
   "outputs": [],
   "source": [
    "add_42 :: Int -> Int\n",
    "add_42 = add 42 -- Remember, we can omit trailing arguments!\n",
    "\n",
    "add 9 1\n",
    "add_42 1"
   ]
  },
  {
   "cell_type": "markdown",
   "id": "a332e4bd-1806-4c99-8063-788abaa458b0",
   "metadata": {},
   "source": [
    "Using partial application, we can create brand new functions from the `foldr` function. For example, the function `for_all` returns `True` or `False` depending on whether every value in a list meets the provided condition:"
   ]
  },
  {
   "cell_type": "code",
   "execution_count": null,
   "id": "84bfa024-cdd5-4da3-ba28-f752c3993317",
   "metadata": {},
   "outputs": [],
   "source": [
    "for_all :: (a -> Bool) -> [a] -> Bool\n",
    "for_all f = foldr (\\x acc -> f x && acc) True\n",
    "\n",
    "for_all even [2, 4, 6, 8, 10]\n",
    "for_all even [2, 4, 5, 8, 10]"
   ]
  },
  {
   "cell_type": "markdown",
   "id": "cb15f552-d318-4e28-a585-b0e1dc2a1a05",
   "metadata": {},
   "source": [
    "Now it's your job to implement `for_all`'s counterpart, `exists`, which should return `True` or `False` depending on whether at least one value in a list meets the provided condition:"
   ]
  },
  {
   "cell_type": "code",
   "execution_count": null,
   "id": "ff92617a-0a08-402c-9b4d-8db120bd33db",
   "metadata": {},
   "outputs": [],
   "source": [
    "exists :: (a -> Bool) -> [a] -> Bool\n",
    "exists f = foldr (\\x acc -> f x || acc) False"
   ]
  },
  {
   "cell_type": "markdown",
   "id": "7e683c0b-1933-41ec-ac51-3fd5c0c976d1",
   "metadata": {},
   "source": [
    "Verify your function works as expected with the checks below:"
   ]
  },
  {
   "cell_type": "code",
   "execution_count": null,
   "id": "dd4ef0ff-d759-4499-93f0-13e6f1850868",
   "metadata": {},
   "outputs": [],
   "source": [
    "exists odd [2, 4, 6, 8, 10] == False\n",
    "exists odd [2, 4, 5, 8, 10] == True"
   ]
  },
  {
   "cell_type": "markdown",
   "id": "570fa928-c8bf-4645-b226-aaaf3e75ec07",
   "metadata": {},
   "source": [
    "### Bonus: More folded functions"
   ]
  },
  {
   "cell_type": "markdown",
   "id": "d9b90b06-2980-49c9-b24b-aeb7c7c0a435",
   "metadata": {},
   "source": [
    "During the lecture, we gave the definition of `map` as a recursive function:"
   ]
  },
  {
   "cell_type": "code",
   "execution_count": null,
   "id": "8e97ae0a-f215-4517-8c57-a9e36a0c92b1",
   "metadata": {},
   "outputs": [],
   "source": [
    "recursive_map :: (a -> b) -> [a] -> [b]\n",
    "recursive_map _ []     = []\n",
    "recursive_map f (x:xs) = f x : recursive_map f xs\n",
    "\n",
    "recursive_map (* 2) [1..5]\n",
    "recursive_map toUpper \"hello world\""
   ]
  },
  {
   "cell_type": "markdown",
   "id": "06f19b77-68c6-4bad-97b6-4fa3d4830f89",
   "metadata": {},
   "source": [
    "Can you implement `map` using `foldr` instead?"
   ]
  },
  {
   "cell_type": "code",
   "execution_count": null,
   "id": "c537d97a-3449-43ea-a938-02314c6ce7d5",
   "metadata": {},
   "outputs": [],
   "source": [
    "folded_map :: (a -> b) -> [a] -> [b]\n",
    "folded_map f = foldr (\\x acc -> f x : acc) []"
   ]
  },
  {
   "cell_type": "markdown",
   "id": "68cde592-f0ff-4bb6-a938-93113e7957d8",
   "metadata": {},
   "source": [
    "Verify your function works as expected with the checks below:"
   ]
  },
  {
   "cell_type": "code",
   "execution_count": null,
   "id": "81a4a9a7-333f-4b6e-ba97-85260599d313",
   "metadata": {},
   "outputs": [],
   "source": [
    "folded_map (* 2) [1..5] == recursive_map (* 2) [1..5]\n",
    "folded_map toUpper \"hello world\" == recursive_map toUpper \"hello world\""
   ]
  },
  {
   "cell_type": "markdown",
   "id": "d37eec07-6d49-4351-9d41-e313275c25bc",
   "metadata": {},
   "source": [
    "We also saw some use of the `filter` function:"
   ]
  },
  {
   "cell_type": "code",
   "execution_count": null,
   "id": "2500048b-1086-430c-b01f-a0a9f6425320",
   "metadata": {},
   "outputs": [],
   "source": [
    "filter odd [1..10]"
   ]
  },
  {
   "cell_type": "markdown",
   "id": "da39a7a5-4edd-41de-b6d0-1318740f8381",
   "metadata": {},
   "source": [
    "Can you implement `filter` in terms of `foldr` as well?\n",
    "\n",
    "**Tip** Here, [`if-then-else` expressions](https://en.wikibooks.org/wiki/Haskell/Control_structures#if_and_guards_revisited) will be handy! "
   ]
  },
  {
   "cell_type": "code",
   "execution_count": null,
   "id": "ef4db2b3-dc98-4442-bf0e-09de572c5e08",
   "metadata": {},
   "outputs": [],
   "source": [
    "folded_filter :: (a -> Bool) -> [a] -> [a]\n",
    "folded_filter f = foldr (\\x acc -> if f x then x : acc else acc) []"
   ]
  },
  {
   "cell_type": "markdown",
   "id": "fd046467-ab3d-4cbc-a740-55b67f29e64a",
   "metadata": {},
   "source": [
    "Verify your function works as expected with the check below:"
   ]
  },
  {
   "cell_type": "code",
   "execution_count": null,
   "id": "bffcf35e-bca3-40c2-87dd-537c840ba2a8",
   "metadata": {},
   "outputs": [],
   "source": [
    "folded_filter odd [1..10]"
   ]
  },
  {
   "cell_type": "markdown",
   "id": "021b059f-a6cc-49a8-a69a-56e1ead58bec",
   "metadata": {},
   "source": [
    "## Wrap up\n",
    "\n",
    "That's it for the first part of the exercises! I hope you learned something new and enjoyed yourself along the way. Please find the second part of the exercises here."
   ]
  }
 ],
 "metadata": {
  "kernelspec": {
   "display_name": "Haskell",
   "language": "haskell",
   "name": "haskell"
  },
  "language_info": {
   "codemirror_mode": "ihaskell",
   "file_extension": ".hs",
   "mimetype": "text/x-haskell",
   "name": "haskell",
   "pygments_lexer": "Haskell",
   "version": "9.4.5"
  }
 },
 "nbformat": 4,
 "nbformat_minor": 5
}
