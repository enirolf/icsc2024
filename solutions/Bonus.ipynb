{
 "cells": [
  {
   "cell_type": "code",
   "execution_count": null,
   "id": "43b06f09",
   "metadata": {},
   "outputs": [],
   "source": [
    ":! stack build lazy-csv --silent\n",
    ":! stack build ihaskell-charts --silent\n",
    "\n",
    "putStrLn \"Done! Please make sure to restart your kernel before proceeding (no need to run this cell again after)\""
   ]
  },
  {
   "cell_type": "code",
   "execution_count": null,
   "id": "4bb96520",
   "metadata": {},
   "outputs": [],
   "source": [
    "-- Make sure to run this cell, otherwise your output will be very noisy.\n",
    ":opt no-lint"
   ]
  },
  {
   "cell_type": "markdown",
   "id": "b409a4a6",
   "metadata": {},
   "source": [
    "# Functional Programming and Why It's Relevant for HEP: Exercises, Bonus\n",
    "\n",
    "For this bonus exercise, your task is to implement the J/psi analysis from [Part 2](./Part2.ipynb) of this exercise session in Haskell.\n",
    "\n",
    "First, let's define the data representation of our particle. We do this through a custom-made [data type](https://mmhaskell.com/liftoff/data-types) that will store the values the `pt`, `eta`, `phi` and `charge` of a particle. It would be useful to have some convenience functions to extract these values from a `Particle`. The one for getting the `pt` is given. As you see, this relies heavily on pattern matching!\n",
    "\n",
    "Implement similar functions for getting the `eta`, `phi` and `charge`."
   ]
  },
  {
   "cell_type": "code",
   "execution_count": null,
   "id": "753cc95c",
   "metadata": {},
   "outputs": [],
   "source": [
    "type Pt = Float\n",
    "type Eta = Float\n",
    "type Phi = Float\n",
    "type Charge = Int\n",
    "data Particle = Particle Pt Eta Phi Charge\n",
    "                deriving Show\n",
    "\n",
    "pt :: Particle -> Float\n",
    "pt (Particle p _ _ _) = p\n",
    "\n",
    "eta :: Particle -> Float\n",
    "eta (Particle _ e _ _) = e\n",
    "\n",
    "phi :: Particle -> Float\n",
    "phi (Particle _ _ p _) = p\n",
    "                \n",
    "charge :: Particle -> Int\n",
    "charge (Particle _ _ _ c) = c"
   ]
  },
  {
   "cell_type": "markdown",
   "id": "90517de0",
   "metadata": {},
   "source": [
    "Next, we need some code to actually read our data. Here's where things get a little bit iffy. Reading from (and writing to) files is a side effect, which in principle is not allowed in Haskell! However, there is a way to still make (some) side effect possible. This is done through [monads](https://stackoverflow.com/questions/44965/what-is-a-monad). For now, you don't need to understand what exactly these are, just that there is the `IO` monad, which, depending on the function will need to be added to the function declaration. We will take care of this for you for this exercise, but if you're feeling brave, you can try to explore the mechanisms behind monads a bit!"
   ]
  },
  {
   "cell_type": "code",
   "execution_count": null,
   "id": "10dfe92f",
   "metadata": {},
   "outputs": [],
   "source": [
    "import Text.CSV.Lazy.String\n",
    "\n",
    "events :: IO [(CSVRow, CSVRow)]\n",
    "events = do\n",
    "    content <- readFile \"../data/df014_CsvDataSource_MuRun2010B.csv\"\n",
    "    let e = csvTable $ parseCSV content\n",
    "    let m1 = case selectFields [\"pt1\", \"eta1\", \"phi1\", \"Q1\"] e of\n",
    "                Left _    -> error \"some fields not found\"\n",
    "                Right res -> drop 1 res\n",
    "    let m2 = case selectFields [\"pt2\", \"eta2\", \"phi2\", \"Q2\"] e of\n",
    "                Left _    -> error \"some fields not found\"\n",
    "                Right res -> drop 1 res\n",
    "    return $ zip m1 m2\n",
    "\n",
    "muon :: CSVRow -> Particle\n",
    "muon r = let [fPt, fEta, fPhi, fCharge] = map csvFieldContent r\n",
    "          in Particle (rf fPt) (rf fEta) (rf fPhi) (ri fCharge)\n",
    "          where rf = read :: String -> Float\n",
    "                ri = read :: String -> Int\n",
    "\n",
    "dimuon :: (CSVRow, CSVRow) -> (Particle, Particle)\n",
    "dimuon (r1, r2) = (muon r1, muon r2)\n",
    "\n",
    "dimuons :: IO [(Particle, Particle)]\n",
    "dimuons = map dimuon <$> events"
   ]
  },
  {
   "cell_type": "markdown",
   "id": "b988b9f0",
   "metadata": {},
   "source": [
    "Let's see what our dimuon representation looks like, by printing the first element (the head!). Notice the `<$>` operator. This is required because `dimuons` is wrapped in this previously mentioned `IO` monad. Without going into too much detail, this operator will be required for any operation called on `dimuons` or anything that is derived from this list going forward."
   ]
  },
  {
   "cell_type": "code",
   "execution_count": null,
   "id": "056ea3a6",
   "metadata": {
    "scrolled": true
   },
   "outputs": [],
   "source": [
    "head <$> dimuons"
   ]
  },
  {
   "cell_type": "markdown",
   "id": "d832577b",
   "metadata": {},
   "source": [
    "As you can see, each element is a tuple containing two `Particle`s. Keep this in mind when defining your analysis functions!\n",
    "\n",
    "Let's start by filtering only the dimuons with opposite charge. Write function `filter_dimuons` that does exactly that. Since this is a bonus challenge, we won't provide the type declarations anymore ;)."
   ]
  },
  {
   "cell_type": "code",
   "execution_count": null,
   "id": "95b4ec47",
   "metadata": {
    "scrolled": true
   },
   "outputs": [],
   "source": [
    "filter_dimuons :: [(Particle, Particle)] -> [(Particle, Particle)]\n",
    "filter_dimuons = filter (\\ (p1, p2) -> (charge p1) * (charge p2) == -1)"
   ]
  },
  {
   "cell_type": "markdown",
   "id": "f49e7974",
   "metadata": {},
   "source": [
    "After applying this filter to `dimuons`, 63946 events should remain. You can check this with the next cell:"
   ]
  },
  {
   "cell_type": "code",
   "execution_count": null,
   "id": "56eb90c4",
   "metadata": {},
   "outputs": [],
   "source": [
    "filtered_dimuons = filter_dimuons <$> dimuons\n",
    "length <$> filtered_dimuons"
   ]
  },
  {
   "cell_type": "markdown",
   "id": "4f0a75c5",
   "metadata": {},
   "source": [
    "Next up, it's time to calculate the invariant mass. Start by defining a function that will calculate this for just one pair of particles. The return type should be a `Float`."
   ]
  },
  {
   "cell_type": "code",
   "execution_count": null,
   "id": "e0d136b1",
   "metadata": {},
   "outputs": [],
   "source": [
    "calc_invariant_mass :: (Particle, Particle) -> Float\n",
    "calc_invariant_mass (p1, p2) = sqrt $ (2 * pt p1 * pt p2) * (cosh (eta p1 - eta p2) - cos (phi p1 - phi p2))"
   ]
  },
  {
   "cell_type": "markdown",
   "id": "e7fd8b06",
   "metadata": {},
   "source": [
    "Of course, now we need to calculate the invariant mass for every event that survived the filter. Let's do this in the next cell:"
   ]
  },
  {
   "cell_type": "code",
   "execution_count": null,
   "id": "cc1e19b2",
   "metadata": {},
   "outputs": [],
   "source": [
    "calc_invariant_masses :: [(Particle, Particle)] -> [Float]\n",
    "calc_invariant_masses = map calc_invariant_mass"
   ]
  },
  {
   "cell_type": "markdown",
   "id": "a18f5bb4",
   "metadata": {},
   "source": [
    "The invariant masses of the first three events should be equal to 3.0953546 9.4090395 and 8.674597. Use the `take` function to check whether this is the case:"
   ]
  },
  {
   "cell_type": "code",
   "execution_count": null,
   "id": "5d8d4d48",
   "metadata": {},
   "outputs": [],
   "source": [
    "invariant_masses = calc_invariant_masses <$> filtered_dimuons\n",
    "\n",
    "take 3 <$> invariant_masses"
   ]
  },
  {
   "cell_type": "markdown",
   "id": "3356742a",
   "metadata": {},
   "source": [
    "Now, let's apply the cut for the J/psi particle. We want to keep only the events where the invariant mass is within the range  $[2.95, 3.25]$. Write the function `apply_jpsi_cut` in the cell below:"
   ]
  },
  {
   "cell_type": "code",
   "execution_count": null,
   "id": "ca030082",
   "metadata": {},
   "outputs": [],
   "source": [
    "apply_jpsi_cut :: [Float] -> [Float]\n",
    "apply_jpsi_cut = filter (\\ p -> p > 2.95 && p < 3.25)"
   ]
  },
  {
   "cell_type": "markdown",
   "id": "ad85a67a",
   "metadata": {},
   "source": [
    "After this cut, 10027 events should remain. Verify this using the cell below:"
   ]
  },
  {
   "cell_type": "code",
   "execution_count": null,
   "id": "bc9bbce9",
   "metadata": {},
   "outputs": [],
   "source": [
    "jpsis = apply_jpsi_cut <$> invariant_masses\n",
    "\n",
    "length <$> jpsis"
   ]
  },
  {
   "cell_type": "markdown",
   "id": "c25142f4",
   "metadata": {},
   "source": [
    "As the final step, of course we should plot the J/psi particle we found as a histogram! The function to produce such a histogram has already been given. The only thing left to do for you is call `plot_jpsi` with the results of your analysis!"
   ]
  },
  {
   "cell_type": "code",
   "execution_count": null,
   "id": "f5b09ef2",
   "metadata": {
    "scrolled": false
   },
   "outputs": [],
   "source": [
    "import IHaskell.Display\n",
    "import Graphics.Rendering.Chart.Easy\n",
    "import Graphics.Rendering.Chart.Plot.Histogram(defaultNormedPlotHist)\n",
    "\n",
    "\n",
    "instance Default (PlotHist x Double) where\n",
    "    def = defaultNormedPlotHist\n",
    "\n",
    "plot_jpsi :: [Float] -> Renderable ()\n",
    "plot_jpsi jpsis = toRenderable $ do\n",
    "                    plot $ fmap histToPlot $ liftEC $ do\n",
    "                        plot_hist_title .= \"J/psi\"\n",
    "                        plot_hist_bins .= 128\n",
    "                        plot_hist_values .= jpsis\n",
    "                        plot_hist_norm_func .= const id\n",
    "\n",
    "plot_jpsi <$> jpsis"
   ]
  }
 ],
 "metadata": {
  "kernelspec": {
   "display_name": "Haskell",
   "language": "haskell",
   "name": "haskell"
  },
  "language_info": {
   "codemirror_mode": "ihaskell",
   "file_extension": ".hs",
   "mimetype": "text/x-haskell",
   "name": "haskell",
   "pygments_lexer": "Haskell",
   "version": "9.4.5"
  }
 },
 "nbformat": 4,
 "nbformat_minor": 5
}
