{
 "cells": [
  {
   "cell_type": "markdown",
   "id": "5b75de7d-60d0-4ab4-94bf-088e935dba41",
   "metadata": {},
   "source": [
    "# Functional Programming and Why It's Relevant for HEP: Exercises (1)"
   ]
  },
  {
   "cell_type": "markdown",
   "id": "df4545da-1672-499d-afef-57970d8e69e5",
   "metadata": {},
   "source": [
    "## Recursion\n",
    "\n",
    "Recall the $\\mathbf{factorial}$ function from the lecture:\n",
    "\n",
    "$$\n",
    "\\mathbf{factorial} \\ n =\n",
    "\\begin{cases}\n",
    "  1 & \\text{if} \\ n = 0 \\\\\n",
    "  n \\cdot \\mathbf{factorial} \\ (n - 1) & \\text{otherwise}\n",
    "\\end{cases}\n",
    "$$\n",
    "\n",
    "To get you started, your first task is to implement this function in Haskell. The type declaration has already been given. You can use "
   ]
  },
  {
   "cell_type": "code",
   "execution_count": 1,
   "id": "7371204b-1759-4cdb-810c-8fa462f3c47a",
   "metadata": {},
   "outputs": [],
   "source": [
    "factorial :: Int -> Int\n",
    "factorial 0 = 1\n",
    "factorial n = n * factorial (n - 1)"
   ]
  },
  {
   "cell_type": "code",
   "execution_count": 2,
   "id": "96fba316-9095-403e-b495-42b78aac644e",
   "metadata": {},
   "outputs": [
    {
     "data": {
      "text/plain": [
       "True"
      ]
     },
     "metadata": {},
     "output_type": "display_data"
    }
   ],
   "source": [
    "factorial 3 == 6"
   ]
  },
  {
   "cell_type": "markdown",
   "id": "bd22ad1f-1b35-47c1-813d-f520d88552e2",
   "metadata": {},
   "source": [
    "## Higher order functions\n",
    "\n",
    "You might have already noticed that a function declaration in Haskell does make an explicit distiction between the types of its arguments and return values. This is because there is no distiction! Functional programming has the notion of what we call **curried functions**, which means that every argument (reading from left to right) is actually applied to a function that that takes the remaining arguments, until we reach the final, right-most argument. The best way to illustrate this is with a simple example:"
   ]
  },
  {
   "cell_type": "code",
   "execution_count": 3,
   "id": "78f448b9-e305-4181-bf68-29771eb77074",
   "metadata": {},
   "outputs": [],
   "source": [
    "addThreeValues :: Int -> Int -> Int -> Int\n",
    "addThreeValues x y z = x + y + z"
   ]
  },
  {
   "cell_type": "code",
   "execution_count": 4,
   "id": "552475ff-beb2-4d9a-a26b-47fd5d1f5dda",
   "metadata": {},
   "outputs": [],
   "source": [
    "-- Verify that `addThreeValues` works as you'd expect by calling it here:\n"
   ]
  },
  {
   "cell_type": "markdown",
   "id": "d79ccab2-01da-485f-8c18-ed5400ce25b8",
   "metadata": {},
   "source": [
    "Let's say we know that our first argument `x` has a constant value of 7. Instead of writing a new function from scratch, we can use `addThreeValues`:"
   ]
  },
  {
   "cell_type": "code",
   "execution_count": 5,
   "id": "d309e80e-04dd-4591-b1fc-eba90d52e85f",
   "metadata": {},
   "outputs": [],
   "source": [
    "addTwoValuesToSeven :: Int -> Int -> Int\n",
    "addTwoValuesToSeven = addThreeValues 7 -- Remember, we can omit trailing arguments!"
   ]
  },
  {
   "cell_type": "code",
   "execution_count": 6,
   "id": "def67e79-a3c2-42ef-bbee-2ca85d833a88",
   "metadata": {},
   "outputs": [],
   "source": [
    "-- Try out `addTwoValuesToSeven` by calling it here:\n"
   ]
  },
  {
   "cell_type": "markdown",
   "id": "c2cd0177-a992-487c-b964-e72a0ecb57ed",
   "metadata": {},
   "source": [
    "## Map, reduce and more"
   ]
  },
  {
   "cell_type": "code",
   "execution_count": 7,
   "id": "5f319974-a585-4aaa-95d3-6ce40784f6d8",
   "metadata": {},
   "outputs": [],
   "source": [
    "recursiveMap :: (a -> b) -> [a] -> [b]\n",
    "recursiveMap _ []     = []\n",
    "recursiveMap f (x:xs) = f x : recursiveMap f xs"
   ]
  },
  {
   "cell_type": "code",
   "execution_count": 8,
   "id": "c1f40285-985e-44bc-b4cd-151bb3c52c10",
   "metadata": {},
   "outputs": [
    {
     "data": {
      "text/plain": [
       "[3,4,5,6,7]"
      ]
     },
     "metadata": {},
     "output_type": "display_data"
    }
   ],
   "source": [
    "recursiveMap (+ 2) [1..5]"
   ]
  },
  {
   "cell_type": "code",
   "execution_count": null,
   "id": "8d0796ca-f6e6-4057-87e8-8c818e50e55c",
   "metadata": {},
   "outputs": [],
   "source": [
    "recursiveReduce :: (a -> b -> b) -> b -> [a] -> b\n",
    "recursiveReduce _ acc []     = acc\n",
    "recursiveReduce f acc (x:xs) = f x (recursiveReduce f acc xs)"
   ]
  },
  {
   "cell_type": "code",
   "execution_count": null,
   "id": "e37d67ec-665c-467f-82f2-95eaa60270ba",
   "metadata": {},
   "outputs": [
    {
     "data": {
      "text/plain": [
       "\"foobarbaz!\""
      ]
     },
     "metadata": {},
     "output_type": "display_data"
    }
   ],
   "source": [
    "recursiveReduce (++) \"!\" [\"foo\", \"bar\", \"baz\"]"
   ]
  },
  {
   "cell_type": "code",
   "execution_count": null,
   "id": "c2302ed0-2f62-4e16-8bfe-a10f08043fcc",
   "metadata": {},
   "outputs": [
    {
     "data": {
      "text/plain": [
       "120"
      ]
     },
     "metadata": {},
     "output_type": "display_data"
    }
   ],
   "source": [
    "recursiveReduce (*) 1 [1..5]\n"
   ]
  },
  {
   "cell_type": "code",
   "execution_count": null,
   "id": "2500048b-1086-430c-b01f-a0a9f6425320",
   "metadata": {},
   "outputs": [],
   "source": []
  }
 ],
 "metadata": {
  "kernelspec": {
   "display_name": "Haskell",
   "language": "haskell",
   "name": "haskell"
  },
  "language_info": {
   "codemirror_mode": "ihaskell",
   "file_extension": ".hs",
   "mimetype": "text/x-haskell",
   "name": "haskell",
   "pygments_lexer": "Haskell",
   "version": "9.4.5"
  }
 },
 "nbformat": 4,
 "nbformat_minor": 5
}
