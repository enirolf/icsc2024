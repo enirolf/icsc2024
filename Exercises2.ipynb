{
 "cells": [
  {
   "cell_type": "markdown",
   "id": "ecb8f466-d33b-4a64-9974-72cf26fa8060",
   "metadata": {},
   "source": [
    "# Functional Programming and Why It's Relevant for HEP: Exercises (2)"
   ]
  },
  {
   "cell_type": "code",
   "execution_count": 1,
   "id": "05f3edbe",
   "metadata": {},
   "outputs": [
    {
     "data": {
      "text/plain": [
       "\u001b[0mCabal file warning in /opt/IHaskell/ihaskell-display/ihaskell-aeson/ihaskell-aeson.cabal@46:28: Packages with 'cabal-version: 1.12' or later should specify a specific version of the Cabal spec of the form 'cabal-version: x.y'. Use 'cabal-version: 1.16'.\u001b[0m\n",
       "\u001b[0mCabal file warning in /opt/IHaskell/ihaskell-display/ihaskell-blaze/ihaskell-blaze.cabal@49:28: Packages with 'cabal-version: 1.12' or later should specify a specific version of the Cabal spec of the form 'cabal-version: x.y'. Use 'cabal-version: 1.16'.\u001b[0m\n",
       "\u001b[0mCabal file warning in /opt/IHaskell/ihaskell-display/ihaskell-charts/ihaskell-charts.cabal@46:28: Packages with 'cabal-version: 1.12' or later should specify a specific version of the Cabal spec of the form 'cabal-version: x.y'. Use 'cabal-version: 1.16'.\u001b[0m\n",
       "\u001b[0mCabal file warning in /opt/IHaskell/ihaskell-display/ihaskell-diagrams/ihaskell-diagrams.cabal@46:28: Packages with 'cabal-version: 1.12' or later should specify a specific version of the Cabal spec of the form 'cabal-version: x.y'. Use 'cabal-version: 1.16'.\u001b[0m\n",
       "\u001b[0mCabal file warning in /opt/IHaskell/ihaskell-display/ihaskell-gnuplot/ihaskell-gnuplot.cabal@47:28: Packages with 'cabal-version: 1.12' or later should specify a specific version of the Cabal spec of the form 'cabal-version: x.y'. Use 'cabal-version: 1.16'.\u001b[0m\n",
       "\u001b[0mCabal file warning in /opt/IHaskell/ihaskell-display/ihaskell-graphviz/ihaskell-graphviz.cabal@48:28: Packages with 'cabal-version: 1.12' or later should specify a specific version of the Cabal spec of the form 'cabal-version: x.y'. Use 'cabal-version: 1.16'.\u001b[0m\n",
       "\u001b[0mCabal file warning in /opt/IHaskell/ihaskell-display/ihaskell-hatex/ihaskell-hatex.cabal@12:28: Packages with 'cabal-version: 1.12' or later should specify a specific version of the Cabal spec of the form 'cabal-version: x.y'. Use 'cabal-version: 1.16'.\u001b[0m\n",
       "\u001b[0mCabal file warning in /opt/IHaskell/ihaskell-display/ihaskell-juicypixels/ihaskell-juicypixels.cabal@52:28: Packages with 'cabal-version: 1.12' or later should specify a specific version of the Cabal spec of the form 'cabal-version: x.y'. Use 'cabal-version: 1.16'.\u001b[0m\n",
       "\u001b[0mCabal file warning in /opt/IHaskell/ihaskell-display/ihaskell-magic/ihaskell-magic.cabal@49:28: Packages with 'cabal-version: 1.12' or later should specify a specific version of the Cabal spec of the form 'cabal-version: x.y'. Use 'cabal-version: 1.16'.\u001b[0m\n",
       "\u001b[0mCabal file warning in /opt/IHaskell/ihaskell-display/ihaskell-plot/ihaskell-plot.cabal@47:28: Packages with 'cabal-version: 1.12' or later should specify a specific version of the Cabal spec of the form 'cabal-version: x.y'. Use 'cabal-version: 1.16'.\u001b[0m\n",
       "\u001b[0mCopying from\n",
       "\u001b[36m/opt/stack/snapshots/x86_64-linux-tinfo6-libc6-pre232/da1ac4c0b236bef1aca1ba27dbf72c5603a2a7b526c792fe4deaf538185a1be8/9.4.5/bin/csvSelect\u001b[0m\n",
       "to \u001b[36m/opt/bin/csvSelect\u001b[0m.\u001b[0m\n",
       "\u001b[0mCopied executables to \u001b[1;94m/opt/bin/\u001b[0m:\n",
       "* csvSelect\u001b[0m\n",
       "\u001b[0m\n",
       "\u001b[33mWarning:\u001b[0m The \u001b[36mcsvSelect\u001b[0m executable found on the PATH environment variable is\n",
       "         \u001b[36m/opt/stack/snapshots/x86_64-linux-tinfo6-libc6-pre232/da1ac4c0b236bef1aca1ba27dbf72c5603a2a7b526c792fe4deaf538185a1be8/9.4.5/bin/csvSelect\u001b[0m\n",
       "         and not the version that was just installed. This means that \u001b[36mcsvSelect\u001b[0m\n",
       "         calls on the command line will not use this version.\u001b[0m"
      ]
     },
     "metadata": {},
     "output_type": "display_data"
    }
   ],
   "source": [
    ":! stack install lazy-csv"
   ]
  },
  {
   "cell_type": "markdown",
   "id": "4c65e498-0abc-4e0f-b74e-16dcf63c833a",
   "metadata": {},
   "source": [
    "<div class=\"alert alert-block alert-warning\">\n",
    "<b>Example:</b> Use yellow boxes for examples that are not \n",
    "inside code cells, or use for mathematical formulas if needed.\n",
    "</div>"
   ]
  },
  {
   "cell_type": "code",
   "execution_count": null,
   "id": "084fd99d-0ade-4b57-9822-28149c32e995",
   "metadata": {},
   "outputs": [],
   "source": [
    "import Text.CSV.Lazy.String -- Required for lazily reading CSV files"
   ]
  },
  {
   "cell_type": "markdown",
   "id": "f120bbc5-03ce-4da8-ac2c-ce469981865a",
   "metadata": {},
   "source": [
    "To make things a bit more readable, lets first define some type aliases and data types to describe a particle:"
   ]
  },
  {
   "cell_type": "code",
   "execution_count": 3,
   "id": "c807b47f-68ad-491e-9e68-9b9adb18f6f1",
   "metadata": {},
   "outputs": [],
   "source": [
    "type Pt = Float\n",
    "type Eta = Float\n",
    "type Phi = Float\n",
    "type Mass = Float\n",
    "type Charge = Int\n",
    "data Particle = Particle Pt Eta Phi Mass Charge\n",
    "                deriving Show"
   ]
  },
  {
   "cell_type": "markdown",
   "id": "2f680397-eb3f-4439-baa0-ac34befb8b76",
   "metadata": {},
   "source": [
    "TODO: **very** brief mention of `IO` monad, emphasize it's *just there* but students shouldn't concern themselves with it (illustrated by the following methods that don't need it)."
   ]
  },
  {
   "cell_type": "code",
   "execution_count": 4,
   "id": "5b5ae2f7-afc9-49db-b652-6d84feea8e4c",
   "metadata": {},
   "outputs": [
    {
     "ename": "",
     "evalue": "",
     "output_type": "error",
     "traceback": [
      "<interactive>:1:24: error: [GHC-76037] Not in scope: type constructor or class ‘CSVRow’\n<interactive>:1:16: error: [GHC-76037] Not in scope: type constructor or class ‘CSVRow’\n<interactive>:12:9: error: [GHC-76037] Not in scope: type constructor or class ‘CSVRow’\n<interactive>:17:20: error: [GHC-76037] Not in scope: type constructor or class ‘CSVRow’\n<interactive>:17:12: error: [GHC-76037] Not in scope: type constructor or class ‘CSVRow’\n<interactive>:19:22: error: [GHC-76037] Not in scope: type constructor or class ‘CSVRow’\n<interactive>:19:14: error: [GHC-76037] Not in scope: type constructor or class ‘CSVRow’"
     ]
    }
   ],
   "source": [
    "events :: IO [(CSVRow, CSVRow)]\n",
    "events = do\n",
    "    content <- readFile \"data/df014_CsvDataSource_MuRun2010B.csv\"\n",
    "    let e = csvTable $ parseCSV content\n",
    "    let m1 = case selectFields [\"pt1\", \"eta1\", \"phi1\", \"M\", \"Q1\"] e of\n",
    "                Left _    -> error \"some fields not found\"\n",
    "                Right res -> drop 1 res\n",
    "    let m2 = case selectFields [\"pt2\", \"eta2\", \"phi2\", \"M\", \"Q2\"] e of\n",
    "                Left _    -> error \"some fields not found\"\n",
    "                Right res -> drop 1 res\n",
    "    return $ zip m1 m2\n",
    "\n",
    "muon :: CSVRow -> Particle\n",
    "muon r = let [fPt, fEta, fPhi, fMass, fCharge] = map csvFieldContent r\n",
    "          in Particle (rf fPt) (rf fEta) (rf fPhi) (rf fMass) (ri fCharge)\n",
    "          where rf = read :: String -> Float\n",
    "                ri = read :: String -> Int\n",
    "\n",
    "dimuon :: (CSVRow, CSVRow) -> (Particle, Particle)\n",
    "dimuon (r1, r2) = (muon r1, muon r2)\n",
    "\n",
    "dimuons :: [(CSVRow, CSVRow)] -> [(Particle, Particle)]\n",
    "dimuons = map dimuon"
   ]
  },
  {
   "cell_type": "code",
   "execution_count": 5,
   "id": "7501150c-d65f-492f-b1cf-fd29be113f0d",
   "metadata": {},
   "outputs": [
    {
     "ename": "",
     "evalue": "",
     "output_type": "error",
     "traceback": [
      "<interactive>:1:8: error: [GHC-88464] Variable not in scope: dimuons :: a0 -> [b]\n<interactive>:1:20: error: [GHC-88464] Variable not in scope: events :: f a0"
     ]
    }
   ],
   "source": [
    "head . dimuons <$> events"
   ]
  },
  {
   "cell_type": "markdown",
   "id": "01d3c812-e8dc-418d-9e43-374629bfaa55",
   "metadata": {},
   "source": [
    "Just in case you don't have a background in physics, for calculating the invariant mass of a set of two particles, we can use the following formula:\n",
    "$$\n",
    "M = \\sqrt{2p_{T1}p_{T2}(\\cosh(\\eta_1-\\eta_2)-\\cos(\\phi_1-\\phi_2))}\n",
    "$$"
   ]
  },
  {
   "cell_type": "code",
   "execution_count": null,
   "id": "ec2202f3-fea7-42e1-8349-db445d35e628",
   "metadata": {},
   "outputs": [],
   "source": [
    "invMass :: Particle -> Particle -> Float\n",
    "invMass p1 p2 = let Particle pt1 eta1 phi1 _ _ = p1\n",
    "                    Particle pt2 eta2 phi2 _ _ = p2\n",
    "                in sqrt $ (2 * pt1 * pt2) * (cosh (eta1 - eta2) - cos (phi1 - phi2))"
   ]
  },
  {
   "cell_type": "code",
   "execution_count": null,
   "id": "e76a389d-5c9c-4037-8fe3-b1e2f86af8a8",
   "metadata": {},
   "outputs": [
    {
     "ename": "",
     "evalue": "",
     "output_type": "error",
     "traceback": [
      "<interactive>:1:8: error: [GHC-88464] Variable not in scope: dimuons :: a0 -> [b]\n<interactive>:1:20: error: [GHC-88464] Variable not in scope: events :: f a0"
     ]
    }
   ],
   "source": [
    "head . dimuons <$> events"
   ]
  },
  {
   "cell_type": "code",
   "execution_count": 1,
   "id": "99c757c8-7d81-448b-afd3-34d6b0e098bc",
   "metadata": {},
   "outputs": [
    {
     "ename": "",
     "evalue": "",
     "output_type": "error",
     "traceback": [
      "<interactive>:1:24: error: [GHC-88464] Variable not in scope: invMass :: a1 -> b0 -> a\n<interactive>:1:35: error: [GHC-88464] Variable not in scope: dimuons :: a0 -> [(a1, b0)]\n<interactive>:1:47: error: [GHC-88464] Variable not in scope: events :: f a0"
     ]
    }
   ],
   "source": [
    "take 10 . map (uncurry invMass) . dimuons <$> events"
   ]
  },
  {
   "cell_type": "code",
   "execution_count": null,
   "id": "aea6874d-e48e-4a56-971b-1a9344bd34f2",
   "metadata": {},
   "outputs": [],
   "source": [
    "-- :option no-pager\n",
    "-- import IHaskell.Display\n",
    "-- import Graphics.Rendering.Chart.Backend.Diagrams\n",
    "\n",
    "-- import Graphics.Rendering.Chart.Easy\n",
    "\n",
    "-- toRenderable (do\n",
    "--     layout_title .= \"f\"\n",
    "--     layout_x_axis . laxis_title .= \"Redshift\"\n",
    "--     layout_y_axis . laxis_title .= \"f(z)\"\n",
    "--     plot (line \"O_matter=0.3 O_lambda=0.7\" [zip zs gs])\n",
    "--     )"
   ]
  }
 ],
 "metadata": {
  "kernelspec": {
   "display_name": "Haskell",
   "language": "haskell",
   "name": "haskell"
  },
  "language_info": {
   "codemirror_mode": "ihaskell",
   "file_extension": ".hs",
   "mimetype": "text/x-haskell",
   "name": "haskell",
   "pygments_lexer": "Haskell",
   "version": "9.4.5"
  }
 },
 "nbformat": 4,
 "nbformat_minor": 5
}
