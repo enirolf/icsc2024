{
 "cells": [
  {
   "cell_type": "code",
   "execution_count": null,
   "id": "79abaf20",
   "metadata": {},
   "outputs": [],
   "source": [
    "# Make sure to run this cell first!\n",
    "\n",
    "import csv\n",
    "import math\n",
    "\n",
    "import matplotlib.pyplot as plt"
   ]
  },
  {
   "cell_type": "markdown",
   "id": "ebb97006-5962-4546-a3a7-3194b0393c2e",
   "metadata": {},
   "source": [
    "# Functional Programming and Why It's Relevant for HEP: Exercises, Part 2\n",
    "\n",
    "Welcome to the second part of the exercises following the Inverted CERN School of Computing 2024 lecture titled [\"Functional Programming and Why It's Relevant for HEP\"](https://indico.cern.ch/event/1334738/contributions/5814261/)! \n",
    "This part is meant to challenge you to apply your freshly acquired knowledge from the lecture and the first set of exercises to a language that is not inherently functional, but has adopted some features from this paradigm.\n",
    "\n",
    "The code below is based one one of the [ROOT RDataFrame tutorials](https://root.cern/doc/master/df014__CSVDataSource_8py.html) to plot the mass of the $J/\\Psi$ particle. It has been rewritten to only use vanilla Python, without any analysis frameworks. The cell below takes care of reading the data and storing it in a `Particle` object. In principle, this part doesn't need any modification, but feel free to do so if you think it's useful.  "
   ]
  },
  {
   "cell_type": "code",
   "execution_count": null,
   "id": "2beeb7e9-c20b-4b05-9ef8-25bc3efc1da8",
   "metadata": {},
   "outputs": [],
   "source": [
    "class Particle:        \n",
    "    def __init__(self, pt, eta, phi, mass, charge):\n",
    "        self.pt = float(pt)\n",
    "        self.eta = float(eta)\n",
    "        self.phi = float(phi)\n",
    "        self.mass = float(mass)\n",
    "        self.charge = int(charge)\n",
    "\n",
    "def event_reader(sourcePath: str) -> csv.DictReader:\n",
    "    dimuons = []\n",
    "    with open(sourcePath) as csvfile:\n",
    "        events = csv.DictReader(csvfile)\n",
    "        for event in events:\n",
    "            muon1 = Particle(event[\"pt1\"], event[\"eta1\"], event[\"phi1\"], event[\"M\"], event[\"Q1\"])\n",
    "            muon2 = Particle(event[\"pt2\"], event[\"eta2\"], event[\"phi2\"], event[\"M\"], event[\"Q2\"])\n",
    "            dimuons.append((muon1, muon2))\n",
    "    return dimuons"
   ]
  },
  {
   "cell_type": "markdown",
   "id": "a177ba3a",
   "metadata": {},
   "source": [
    "The actual analysis is implemented below, as mentioned previously in vanilla Python without using any functional programming concepts. "
   ]
  },
  {
   "cell_type": "code",
   "execution_count": null,
   "id": "8ef566b7-0d06-42d5-9058-dce3da907aba",
   "metadata": {},
   "outputs": [],
   "source": [
    "def jpsi_analysis():\n",
    "    invMasses = []\n",
    "    for muon1, muon2 in event_reader(\"../data/df014_CsvDataSource_MuRun2010B.csv\"):\n",
    "        if (muon1.charge * muon2.charge != -1):\n",
    "            continue\n",
    "\n",
    "        invMass = math.sqrt(2 * muon1.pt * muon2.pt * (math.cosh(muon1.eta - muon2.eta) - math.cos(muon1.phi - muon2.phi)))\n",
    "\n",
    "        jpsiLow = 2.95\n",
    "        jpsiHigh = 3.25\n",
    "\n",
    "        if invMass < jpsiLow or invMass > jpsiHigh:\n",
    "            continue\n",
    "        \n",
    "        invMasses.append(invMass)\n",
    "    return invMasses"
   ]
  },
  {
   "cell_type": "markdown",
   "id": "62edc15d",
   "metadata": {},
   "source": [
    "You can run the analysis and plot the resulting histogram using the function below (do you recognize the functionial pattern we use here?). You can use this function to verify any subsequent implementations you will write."
   ]
  },
  {
   "cell_type": "code",
   "execution_count": null,
   "id": "319e591c",
   "metadata": {
    "scrolled": true
   },
   "outputs": [],
   "source": [
    "def run_analysis(analysis_func, print_n_results = 0):\n",
    "    results = jpsi_analysis()\n",
    "    \n",
    "    if print_n_results > 0:\n",
    "        print(results[:print_n_results])\n",
    "\n",
    "    plt.hist(results, 128)\n",
    "    plt.plot()\n",
    "\n",
    "run_analysis(jpsi_analysis)"
   ]
  },
  {
   "cell_type": "markdown",
   "id": "68958c48-0af2-4793-b00d-ca20ece2b612",
   "metadata": {},
   "source": [
    "Your task now is to \"functionalize\" this analysis! A number of functional patterns that have been adopted by Python have been discussed during the lecture. Try to see where you can apply them! In addition, in what other ways can you transform the code above to make it more functional? What is your opinion in terms of syntax, do you like functional-style code or do you prefer the more classic imperative code? You are encouraged to collaborate on this exercise and discuss your findings with others!\n",
    "\n",
    "**Tip** Instead of completely rewriting `jpsi_analysis`, it might be useful to define a new function (or multiple, if you want to try out different things) so it will be easier to compare it against the original one."
   ]
  },
  {
   "cell_type": "markdown",
   "id": "da0f7127-7366-4e9f-af44-f791d265ce20",
   "metadata": {},
   "source": [
    "## Wrap-up\n",
    "\n",
    "This exercise is quite open-ended, and you are encouraged to try different things! If you have time left (and have already finished the bonus tasks from the [first part](../Exercise1.ipynb)), consider these extra questions and challenges:\n",
    "\n",
    "* Take a look at the original [ROOT RDataFrame tutorial](https://root.cern/doc/master/df014__CSVDataSource_8py.html) code and, if you're not familiar with it yet, the documentation for [RDataFrame](https://root.cern/doc/master/classROOT_1_1RDataFrame.html). Do you see the parallels with the functional programming paradigm?\n",
    "* Take your favorite programming language (assuming it's not Python), and try to implement the analysis presented here using as many functional patterns as possible provided by this language. Of course, you could also use some other piece of code if you have it!\n",
    "* For some extra fun, try your hand at implementing this analysis in Haskell! You can use [this notebook](./Bonus.ipynb) for some guidance.\n",
    "\n",
    "I hope you enjoyed these exercises! If you have any additional questions or feedback, please don't hesitate to ask me during the session or send me an [email](florine.de.geus@cern.ch).\n",
    "\n",
    "Enjoy the rest of the iCSC!"
   ]
  }
 ],
 "metadata": {
  "kernelspec": {
   "display_name": "Python 3 (ipykernel)",
   "language": "python",
   "name": "python3"
  },
  "language_info": {
   "codemirror_mode": {
    "name": "ipython",
    "version": 3
   },
   "file_extension": ".py",
   "mimetype": "text/x-python",
   "name": "python",
   "nbconvert_exporter": "python",
   "pygments_lexer": "ipython3",
   "version": "3.9.7"
  }
 },
 "nbformat": 4,
 "nbformat_minor": 5
}
