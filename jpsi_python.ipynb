{
 "cells": [
  {
   "cell_type": "code",
   "execution_count": 1,
   "id": "79abaf20",
   "metadata": {},
   "outputs": [],
   "source": [
    "import csv\n",
    "import math\n",
    "\n",
    "import matplotlib.pyplot as plt"
   ]
  },
  {
   "cell_type": "code",
   "execution_count": 2,
   "id": "b1a42c1f",
   "metadata": {},
   "outputs": [],
   "source": [
    "class Particle:        \n",
    "    def __init__(self, pt, eta, phi, mass, charge):\n",
    "        self.pt = float(pt)\n",
    "        self.eta = float(eta)\n",
    "        self.phi = float(phi)\n",
    "        self.mass = float(mass)\n",
    "        self.charge = int(charge)\n",
    "\n",
    "def event_reader(sourcePath: str) -> csv.DictReader:\n",
    "    dimuons = []\n",
    "    with open(sourcePath) as csvfile:\n",
    "        events = csv.DictReader(csvfile)\n",
    "        for event in events:\n",
    "            muon1 = Particle(event[\"pt1\"], event[\"eta1\"], event[\"phi1\"], event[\"M\"], event[\"Q1\"])\n",
    "            muon2 = Particle(event[\"pt2\"], event[\"eta2\"], event[\"phi2\"], event[\"M\"], event[\"Q2\"])\n",
    "            dimuons.append((muon1, muon2))\n",
    "    return dimuons\n",
    "\n",
    "def jpsi_analysis():\n",
    "    invMasses = []\n",
    "    for muon1, muon2 in event_reader(\"data/df014_CsvDataSource_MuRun2010B.csv\"):\n",
    "        if (muon1.charge * muon2.charge != -1):\n",
    "            continue\n",
    "\n",
    "        invMass = math.sqrt(2 * muon1.pt * muon2.pt * (math.cosh(muon1.eta - muon2.eta) - math.cos(muon1.phi - muon2.phi)))\n",
    "\n",
    "        jpsiLow = 2.95\n",
    "        jpsiHigh = 3.25\n",
    "\n",
    "        if invMass < jpsiLow or invMass > jpsiHigh:\n",
    "            continue\n",
    "        \n",
    "        invMasses.append(invMass)\n",
    "    return invMasses"
   ]
  },
  {
   "cell_type": "code",
   "execution_count": 3,
   "id": "319e591c",
   "metadata": {},
   "outputs": [
    {
     "name": "stdout",
     "output_type": "stream",
     "text": [
      "3.095355083578199\n",
      "3.1244595449902186\n",
      "3.2110681213569716\n",
      "3.137302753886771\n",
      "3.0976840559556953\n",
      "3.009482355006066\n",
      "3.0799990253034957\n",
      "3.141843740297061\n",
      "3.1686492064639085\n",
      "3.0664024123652345\n"
     ]
    },
    {
     "data": {
      "text/plain": [
       "[]"
      ]
     },
     "execution_count": 3,
     "metadata": {},
     "output_type": "execute_result"
    },
    {
     "data": {
      "image/png": "[encoded data removed]",
      "text/plain": [
       "<Figure size 640x480 with 1 Axes>"
      ]
     },
     "metadata": {},
     "output_type": "display_data"
    }
   ],
   "source": [
    "jpsi_results = jpsi_analysis()\n",
    "\n",
    "for res in jpsi_results[:10]:\n",
    "    print(res)\n",
    "\n",
    "plt.hist(jpsi_analysis(), 128)\n",
    "plt.plot()"
   ]
  },
  {
   "cell_type": "code",
   "execution_count": null,
   "id": "20944d9d",
   "metadata": {},
   "outputs": [],
   "source": []
  }
 ],
 "metadata": {
  "kernelspec": {
   "display_name": "Python 3 (ipykernel)",
   "language": "python",
   "name": "python3"
  },
  "language_info": {
   "codemirror_mode": {
    "name": "ipython",
    "version": 3
   },
   "file_extension": ".py",
   "mimetype": "text/x-python",
   "name": "python",
   "nbconvert_exporter": "python",
   "pygments_lexer": "ipython3",
   "version": "3.7.3"
  }
 },
 "nbformat": 4,
 "nbformat_minor": 5
}
